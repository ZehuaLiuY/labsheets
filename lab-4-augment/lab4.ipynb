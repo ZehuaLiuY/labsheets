{
 "cells": [
  {
   "cell_type": "code",
   "id": "initial_id",
   "metadata": {
    "collapsed": true,
    "ExecuteTime": {
     "end_time": "2024-10-15T08:50:54.874237Z",
     "start_time": "2024-10-15T08:50:54.276992Z"
    }
   },
   "source": [
    "import torch\n",
    "import torchvision\n",
    "from torchvision.transforms import RandomHorizontalFlip\n",
    "\n",
    "dataset = torchvision.datasets.CIFAR10(root='./data', train=True, download=True)\n",
    "img, label = dataset[1]\n",
    "print(type(img))\n",
    "print(label)\n",
    "img"
   ],
   "outputs": [
    {
     "name": "stdout",
     "output_type": "stream",
     "text": [
      "Files already downloaded and verified\n",
      "<class 'PIL.Image.Image'>\n",
      "9\n"
     ]
    },
    {
     "data": {
      "text/plain": [
       "<PIL.Image.Image image mode=RGB size=32x32>"
      ],
      "image/png": "[encoded data removed]",
      "image/jpeg": "[encoded data removed]"
     },
     "execution_count": 3,
     "metadata": {},
     "output_type": "execute_result"
    }
   ],
   "execution_count": 3
  },
  {
   "metadata": {
    "ExecuteTime": {
     "end_time": "2024-10-15T08:51:48.192316Z",
     "start_time": "2024-10-15T08:51:48.189011Z"
    }
   },
   "cell_type": "code",
   "source": [
    "transform = RandomHorizontalFlip()\n",
    "transform(img)\n",
    "print(type(img))\n",
    "img"
   ],
   "id": "832859f86bfc2af3",
   "outputs": [
    {
     "name": "stdout",
     "output_type": "stream",
     "text": [
      "<class 'PIL.Image.Image'>\n"
     ]
    },
    {
     "data": {
      "text/plain": [
       "<PIL.Image.Image image mode=RGB size=32x32>"
      ],
      "image/png": "[encoded data removed]",
      "image/jpeg": "[encoded data removed]"
     },
     "execution_count": 11,
     "metadata": {},
     "output_type": "execute_result"
    }
   ],
   "execution_count": 11
  }
 ],
 "metadata": {
  "kernelspec": {
   "display_name": "Python 3",
   "language": "python",
   "name": "python3"
  },
  "language_info": {
   "codemirror_mode": {
    "name": "ipython",
    "version": 2
   },
   "file_extension": ".py",
   "mimetype": "text/x-python",
   "name": "python",
   "nbconvert_exporter": "python",
   "pygments_lexer": "ipython2",
   "version": "2.7.6"
  }
 },
 "nbformat": 4,
 "nbformat_minor": 5
}
